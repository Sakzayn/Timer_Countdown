{
 "cells": [
  {
   "cell_type": "markdown",
   "metadata": {},
   "source": [
    "### Countdown\n",
    "\n",
    "A function that counts down the user input in seconds"
   ]
  },
  {
   "cell_type": "code",
   "execution_count": 3,
   "metadata": {},
   "outputs": [],
   "source": [
    "import time as t"
   ]
  },
  {
   "cell_type": "code",
   "execution_count": 4,
   "metadata": {},
   "outputs": [
    {
     "name": "stdout",
     "output_type": "stream",
     "text": [
      "Input the time in seconds:58\n",
      "Countdown done!\n"
     ]
    }
   ],
   "source": [
    "def countdown(sec):\n",
    "    while sec:\n",
    "        mins,secs= divmod (sec,60)\n",
    "        timer='{:02d}:{:02d}'.format(mins, secs)\n",
    "        print(timer, end='\\r')\n",
    "        t.sleep(1)\n",
    "        sec -= 1\n",
    "    print(\"Countdown done!\")\n",
    "    \n",
    "sec=input('Input the time in seconds:')\n",
    "\n",
    "countdown(int(sec))"
   ]
  },
  {
   "cell_type": "code",
   "execution_count": null,
   "metadata": {},
   "outputs": [],
   "source": []
  },
  {
   "cell_type": "code",
   "execution_count": null,
   "metadata": {},
   "outputs": [],
   "source": []
  }
 ],
 "metadata": {
  "kernelspec": {
   "display_name": "Python 3",
   "language": "python",
   "name": "python3"
  },
  "language_info": {
   "codemirror_mode": {
    "name": "ipython",
    "version": 3
   },
   "file_extension": ".py",
   "mimetype": "text/x-python",
   "name": "python",
   "nbconvert_exporter": "python",
   "pygments_lexer": "ipython3",
   "version": "3.7.10"
  }
 },
 "nbformat": 4,
 "nbformat_minor": 4
}
